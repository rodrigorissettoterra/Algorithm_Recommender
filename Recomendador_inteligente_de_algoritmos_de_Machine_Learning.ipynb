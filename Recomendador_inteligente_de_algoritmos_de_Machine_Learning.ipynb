{
  "nbformat": 4,
  "nbformat_minor": 0,
  "metadata": {
    "colab": {
      "provenance": [],
      "authorship_tag": "ABX9TyPijtqbgD8IBUDn5exFMVF2",
      "include_colab_link": true
    },
    "kernelspec": {
      "name": "python3",
      "display_name": "Python 3"
    },
    "language_info": {
      "name": "python"
    }
  },
  "cells": [
    {
      "cell_type": "markdown",
      "metadata": {
        "id": "view-in-github",
        "colab_type": "text"
      },
      "source": [
        "<a href=\"https://colab.research.google.com/github/rodrigorissettoterra/algorithm_recommender/blob/main/Recomendador_inteligente_de_algoritmos_de_Machine_Learning.ipynb\" target=\"_parent\"><img src=\"https://colab.research.google.com/assets/colab-badge.svg\" alt=\"Open In Colab\"/></a>"
      ]
    },
    {
      "cell_type": "code",
      "execution_count": null,
      "metadata": {
        "id": "rm6Pb61OAixx"
      },
      "outputs": [],
      "source": [
        "import pandas as pd\n",
        "\n",
        "def recomenda_algoritmo(df):\n",
        "    print(\"\\n Análise automática de base iniciada...\\n\")\n",
        "\n",
        "    n_amostras, n_features = df.shape\n",
        "    print(f\"Número de amostras: {n_amostras}\")\n",
        "    print(f\"Número de características: {n_features}\\n\")\n",
        "\n",
        "    tem_target = input(\"Sua base possui uma variável alvo? (s/n): \").strip().lower()\n",
        "\n",
        "    if tem_target == 's':\n",
        "        tipo_target = input(\"A variável alvo é categórica ou numérica? (c/n): \").strip().lower()\n",
        "\n",
        "        if tipo_target == 'c':\n",
        "            print(\"\\n Tarefa: Classificação\")\n",
        "            if n_amostras < 50000:\n",
        "                usa_texto = input(\"A entrada são dados de texto? (s/n): \").strip().lower()\n",
        "                if usa_texto == 's':\n",
        "                    print(\"Algoritmo sugerido: Naive Bayes\")\n",
        "                else:\n",
        "                    print(\"Algoritmo sugerido: LinearSVC ou KNeighborsClassifier\")\n",
        "            else:\n",
        "                print(\"Algoritmo sugerido: SGDClassifier\")\n",
        "\n",
        "        elif tipo_target == 'n':\n",
        "            print(\"\\n Tarefa: Regressão\")\n",
        "            if n_amostras < 100000:\n",
        "                poucas_variaveis = input(\"Poucas variáveis explicativas são importantes? (s/n): \").strip().lower()\n",
        "                if poucas_variaveis == 's':\n",
        "                    print(\"Algoritmo sugerido: Lasso ou ElasticNet\")\n",
        "                else:\n",
        "                    print(\"Algoritmo sugerido: RidgeRegression ou SVR com kernel linear\")\n",
        "            else:\n",
        "                print(\"Algoritmo sugerido: SGDRegressor\")\n",
        "\n",
        "    else:\n",
        "        tipo_tarefa = input(\"Você quer: (1) encontrar categorias (clustering) ou (2) reduzir dimensão? Digite 1 ou 2: \").strip()\n",
        "        if tipo_tarefa == '1':\n",
        "            print(\"\\n Tarefa: Clustering\")\n",
        "            conhece_categorias = input(\"Você sabe o número de clusters? (s/n): \").strip().lower()\n",
        "            if conhece_categorias == 's':\n",
        "                if n_amostras < 10000:\n",
        "                    print(\"Algoritmo sugerido: KMeans\")\n",
        "                else:\n",
        "                    print(\"Algoritmo sugerido: MiniBatchKMeans\")\n",
        "            else:\n",
        "                print(\"Algoritmo sugerido: MeanShift ou VBGMM\")\n",
        "        elif tipo_tarefa == '2':\n",
        "            print(\"\\n Tarefa: Redução de Dimensionalidade\")\n",
        "            if n_amostras < 10000:\n",
        "                print(\"Algoritmo sugerido: Isomap ou SpectralEmbedding\")\n",
        "            else:\n",
        "                print(\"Algoritmo sugerido: RandomizedPCA\")\n",
        "        else:\n",
        "            print(\"Entrada inválida. Finalizando.\")"
      ]
    },
    {
      "cell_type": "code",
      "source": [
        "# Exemplo de uso:\n",
        "if __name__ == \"__main__\":\n",
        "    caminho = input(\"Digite o caminho para o arquivo CSV: \").strip()\n",
        "    try:\n",
        "        df = pd.read_csv(caminho)\n",
        "        recomenda_algoritmo(df)\n",
        "    except Exception as e:\n",
        "        print(f\"Erro ao carregar a base: {e}\")"
      ],
      "metadata": {
        "colab": {
          "base_uri": "https://localhost:8080/"
        },
        "id": "95zIOeV0Me46",
        "outputId": "edb3f445-638b-4f20-d899-dbe2a94c5b2f"
      },
      "execution_count": null,
      "outputs": [
        {
          "output_type": "stream",
          "name": "stdout",
          "text": [
            "Digite o caminho para o arquivo CSV: /content/submission2.csv\n",
            "\n",
            " Análise automática de base iniciada...\n",
            "\n",
            "Número de amostras: 1157953\n",
            "Número de características: 3\n",
            "\n",
            "Sua base possui uma variável alvo? (s/n): n\n",
            "Você quer: (1) encontrar categorias (clustering) ou (2) reduzir dimensão? Digite 1 ou 2: 1\n",
            "\n",
            " Tarefa: Clustering\n",
            "Você sabe o número de clusters? (s/n): s\n",
            "Algoritmo sugerido: MiniBatchKMeans\n"
          ]
        }
      ]
    },
    {
      "cell_type": "code",
      "source": [],
      "metadata": {
        "id": "KIehfpCFMgZP"
      },
      "execution_count": null,
      "outputs": []
    }
  ]
}